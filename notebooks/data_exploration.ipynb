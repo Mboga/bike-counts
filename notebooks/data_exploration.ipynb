{
 "cells": [
  {
   "cell_type": "code",
   "execution_count": 1,
   "id": "62fd1ee9-6b8e-4ed6-8105-ec055cd02da4",
   "metadata": {
    "vscode": {
     "languageId": "plaintext"
    }
   },
   "outputs": [
    {
     "name": "stdout",
     "output_type": "stream",
     "text": [
      "Running Jupyter Notebook for exploration...\n"
     ]
    }
   ],
   "source": [
    "# File: notebooks/explore.ipynb (content for a Jupyter Notebook cell)\n",
    "import os\n",
    "import polars as pl\n",
    "from sqlalchemy import create_engine\n",
    "import requests\n",
    "\n",
    "print(\"Running Jupyter Notebook for exploration...\")"
   ]
  },
  {
   "cell_type": "code",
   "execution_count": 9,
   "id": "6e223884-f514-46e7-a4ad-d0ce89b5235d",
   "metadata": {},
   "outputs": [
    {
     "name": "stdout",
     "output_type": "stream",
     "text": [
      "Device name,Active,Road (nl),Road (fr),Road (en),Description (nl),Description (fr),Description (en),Lane schema,Basic schema,Detailed schema,Picture 1,Picture 2,Lon (WGS 84),Lat (WGS 84),X (Lb72),Y (Lb72)\n",
      "CAT17,True,Veeweidekaai 11 - 1070 Anderlecht,Quai de Veeweyde 11 - 1070 Anderlecht,Quai de Veeweyde 11 - 1070 Anderlecht,Veeweidekaai 11 - 1070 Anderlecht,Quai de Veeweyde 11 - 1070 Anderlecht,Quai de Veeweyde 11 - 1070 Anderlecht,https://data.mobility.brussels/media/bike/count/CAT17_6b8e7a01-cc38-4d06-9a4d-3d4ece53a578.png,https://data.mobility.brussels/media/bike/count/CAT17_82c4bc7e-f1d0-43cc-9be5-8678af101c57.png,https://data.mobility.brussels/media/bike/count/CAT17_9be1e6e1-4c00-4730-b747-a6b158b85a5b.png,https://data.mobility.brussels/media/bike/count/CAT17_517a19f8-a282-4477-9375-fdbb513d4242.jpg,https://data.mobility.brussels/media/bike/count/CAT17_5b8ac796-d12b-48b0-8488-f7bd06847834.jpg,4.301991995919691,50.820621002525904,145295.77384021957,167800.59543291386\n",
      "CB02411,True,Vilvoordsesteenweg - 1020 Brussel,ChaussÃ©e de Vilvorde - 1020 Bruxelles,ChaussÃ©e de Vilvorde - 1020 Bruxelles,Vilvoordsesteenweg - 1020 Brussel,ChaussÃ©e de Vilvorde - 1020 Bruxelles,ChaussÃ©e de Vilvorde - 1020 Bruxelles,https://data.mobility.brussels/media/bike/count/CB02411_d048e4a0-ab43-4b42-af71-90492a9003b4.png,https://data.mobility.brussels/media/bike/count/CB02411_454e3cbe-d844-4c2c-b0dd-510f7483d47d.png,https://data.mobility.brussels/media/bike/count/CB02411_609a141d-0717-4a39-8a18-6aa2f4f0d41b.png,https://data.mobility.brussels/media/bike/count/CB02411_aa4aea5f-7f45-46c1-a4d8-3c7583cd7182.jpg,https://data.mobility.brussels/media/bike/count/CB02411_64af8dee-2353-4147-b315-367ebd79a2c8.jpg,4.373960995908418,50.88185000251615,150366.52086226034,174609.7089257436\n",
      "CB1101,True,Kunstlaan 26 - 1000 Brussel,Avenue des Arts 26 - 1000 Bruxelles,Avenue des Arts 26 - 1000 Bruxelles,Kunstlaan 26 - 1000 Brussel,Avenue des Arts 26 - 1000 Bruxelles,Avenue des Arts 26 - 1000 Bruxelles,https://data.mobility.brussels/media/bike/count/CB1101_575ec0a4-a691-43b4-858c-e0a2523d4570.png,https://data.mobility.brussels/media/bike/count/CB1101_ad02e530-1b77-49e6-9d38-e83fe2a18fb0.png,https://data.mobility.brussels/media/bike/count/CB1101_0fde8e91-901f-4d3b-82ec-655154a1db64.png,https://data.mobility.brussels/media/bike/count/CB1101_fa41fd2a-aa89-46e0-8b79-f345b7fb0df9.jpg,https://data.mobility.brussels/media/bike/count/CB1101_246b9e40-810f-4c08-afd9-93a382dece20.jpg,4.36858299590588,50.84534100252618,149988.08238897286,170548.38497496303\n",
      "CB1142,True,Wetstraat 130 - 1000 Brussel,Rue de la Loi 130 - 1000 Bruxelles,Rue de la Loi 130 - 1000 Bruxelles,\"De aantallen zijn gemeten op het fietspad van de Wetstraat richting centrum. Fietsbewegingen in beide richtingen zijn samengeteld. De aantallen worden telkens gereset aan het begin van een uur, een dag en een jaar.\",\"Les nombres sont comptÃ©s sur la piste cyclable de la Rue de la Loi en direction du centre. Les mouvements des cyclistes dans les deux sens sont comptÃ©s ensemble. Les nombres sont chaque fois remis Ã  zÃ©ro au dÃ©but de lâheure, de la journÃ©e et de lâannÃ©e.\",Wetstraat 130 - 1000 Brussel,https://data.mobility.brussels/media/bike/count/CB1142_1575865b-d1a2-44a4-8368-a761ababe645.png,https://data.mobility.brussels/media/bike/count/CB1142_970ce501-f26f-4d25-8e45-5354e83d48c5.png,https://data.mobility.brussels/media/bike/count/CB1142_2c7377b4-2950-4e8f-83ed-09318e26cdd7.png,https://data.mobility.brussels/media/bike/count/CB1142_bab13180-fa9e-4798-84ad-4ef56e1771e2.jpg,https://data.mobility.brussels/media/-,4.378737995903186,50.843570002527876,150703.30572719825,170351.43165755924\n",
      "CB1143,True,Wetstraat 145 - 1000 Brussel,Rue de la Loi 145 - 1000 Bruxelles,Rue de la Loi 145 - 1000 Bruxelles,Wetstraat 145 - 1000 Brussel,Rue de la Loi 145 - 1000 Bruxelles,Rue de la Loi 145 - 1000 Bruxelles,https://data.mobility.brussels/media/bike/count/CB1143_6219453d-0939-42e1-a89a-d9dbca049241.png,https://data.mobility.brussels/media/bike/count/CB1143_83646c6f-a2f4-4c76-b2ce-7cc4f7fbc92e.png,https://data.mobility.brussels/media/bike/count/CB1143_7cf1c823-366e-4217-892f-7e63dacdf227.png,https://data.mobility.brussels/media/bike/count/CB1143_8d3dad6e-7079-4b98-b4fa-724e55348f2f.jpg,https://data.mobility.brussels/media/-,4.378813995903146,50.84337000252792,150708.661668213,170329.18430125527\n",
      "CB1599,True,Franklin Rooseveltlaan 48 - 1000 Brussel,Avenue Franklin Rooseveltlaan 48 - 1000 Bruxelles,Avenue Franklin Rooseveltlaan 48 - 1000 Bruxelles,Franklin Rooseveltlaan 48 - 1000 Brussel,Avenue Franklin Rooseveltlaan 48 - 1000 Bruxelles,Avenue Franklin Rooseveltlaan 48 - 1000 Bruxelles,https://data.mobility.brussels/media/-,https://data.mobility.brussels/media/-,https://data.mobility.brussels/media/-,https://data.mobility.brussels/media/-,https://data.mobility.brussels/media/-,4.379253995899753,50.81240800253699,150740.17032080193,166884.97076604702\n",
      "CB1699,True,Franklin Rooseveltlaan 19 - 1000 Brussel,Avenue Franklin Roosevelt 19 - 1000 Bruxelles,Avenue Franklin Roosevelt 19 - 1000 Bruxelles,Franklin Rooseveltlaan 19 - 1000 Brussel,Avenue Franklin Roosevelt 19 - 1000 Bruxelles,Avenue Franklin Roosevelt 19 - 1000 Bruxelles,https://data.mobility.brussels/media/bike/count/CB1699_1c7fe9e3-164b-417d-af8b-3cc4cf6cf6dd.png,https://data.mobility.brussels/media/bike/count/CB1699_ecde80b8-558b-4a5d-b5fc-f1045c151ec5.png,https://data.mobility.brussels/media/bike/count/CB1699_e74af911-eb89-48d2-8155-ad04e70d9a81.png,https://data.mobility.brussels/media/bike/count/CB1699_9035bcd8-253a-46f3-9284-8fe6ca760f5c.jpg,https://data.mobility.brussels/media/-,4.378799995899851,50.81228000253699,150708.17572737113,166870.72735976242\n",
      "CB2105,True,PoincarÃ©laan 75 - 1070 Anderlecht,Boulevard PoincarÃ© 75 - 1070 Anderlecht,Boulevard PoincarÃ© 75 - 1070 Anderlecht,PoincarÃ©laan 75 - 1070 Anderlecht,Boulevard PoincarÃ© 75 - 1070 Anderlecht,Boulevard PoincarÃ© 75 - 1070 Anderlecht,https://data.mobility.brussels/media/bike/count/CB2105_2a8aa9ff-bf28-45ba-993f-b56655057837.png,https://data.mobility.brussels/media/bike/count/CB2105_b5de25d3-ac18-4d92-bfcf-2c39535aaf02.png,https://data.mobility.brussels/media/bike/count/CB2105_3c13b20c-909f-45bc-b159-1257b8f8f6e6.png,https://data.mobility.brussels/media/bike/count/CB2105_b58c98f8-9d29-4b06-89fd-32eff6324e52.jpg,https://data.mobility.brussels/media/bike/count/CB2105_4626c552-d386-4e75-8aca-8705b8e659c0.jpg,4.340009995912418,50.84048000252439,147975.5426188648,170008.01742326748\n",
      "CEE016,True,Generaal Jacqueslaan 210 - 1050 Elsene,Avenue GÃ©nÃ©ral Jacques 210 - 1050 Ixelles,Avenue GÃ©nÃ©ral Jacques 210 - 1050 Ixelles,Generaal Jacqueslaan 210 - 1050 Elsene,Avenue GÃ©nÃ©ral Jacques 210 - 1050 Ixelles,Avenue GÃ©nÃ©ral Jacques 210 - 1050 Ixelles,https://data.mobility.brussels/media/bike/count/CEE016_b88fd8d3-3dc9-447f-984f-c367c5dde2db.png,https://data.mobility.brussels/media/bike/count/CEE016_e306a288-cb1d-4ab0-9254-569f48827040.png,https://data.mobility.brussels/media/bike/count/CEE016_bcbe0531-e704-4b36-ab4f-4d5b3fa39050.png,https://data.mobility.brussels/media/-,https://data.mobility.brussels/media/-,4.386718995898861,50.82137600253522,151266.03202625556,167882.67534628976\n",
      "CEK049,True,Generaal Jacqueslaan (VUB) - 1050 Elsene,Boulevard GÃ©nÃ©ral Jacques (VUB) - 1050 Ixelles,Boulevard GÃ©nÃ©ral Jacques (VUB) - 1050 Ixelles,Generaal Jacqueslaan (VUB) - 1050 Elsene,Boulevard GÃ©nÃ©ral Jacques (VUB) - 1050 Ixelles,Boulevard GÃ©nÃ©ral Jacques (VUB) - 1050 Ixelles,https://data.mobility.brussels/media/bike/count/CEK049_88f8d1cb-6353-478c-b9bc-4f94acc5af24.png,https://data.mobility.brussels/media/bike/count/CEK049_f49c9ea4-2d97-4de8-9954-17d9d2a96795.png,https://data.mobility.brussels/media/bike/count/CEK049_0cc3c9dc-437f-4634-9e02-7fe302775ae7.png,https://data.mobility.brussels/media/bike/count/CEK049_147fb09f-e7b3-4bf7-90f8-e486685b90ed.jpg,https://data.mobility.brussels/media/bike/count/CEK049_4f64b2b3-3719-4838-8541-979e70a64b27.jpg,4.393892995897416,50.82448000253513,151771.41899748406,168228.11577489227\n",
      "CEK18,True,Tervurenlaan 28 - 1040 Etterbeek,Avenue de Tervueren 28 - 1040 Etterbeek,Avenue de Tervueren 28 - 1040 Etterbeek,Tervurenlaan 28 - 1040 Etterbeek,Avenue de Tervueren 28 - 1040 Etterbeek,Avenue de Tervueren 28 - 1040 Etterbeek,https://data.mobility.brussels/media/bike/count/CEK18_2b5bdc3c-dc0c-4177-9a0b-870092700400.png,https://data.mobility.brussels/media/bike/count/CEK18_60e49315-2f19-4205-a85f-b0eaddc6ee3e.png,https://data.mobility.brussels/media/bike/count/CEK18_fdf1b3d8-1de2-44df-b6e1-0a3fa02160fc.png,https://data.mobility.brussels/media/bike/count/CEK18_5327032b-d3a1-4a9f-9029-3e40a789d27c.jpg,https://data.mobility.brussels/media/-,4.400258995897405,50.83920000253155,152219.251732101,169865.74793962855\n",
      "CEK31,True,NerviÃ«rslaan 135 - 1040 Etterbeek,Avenue des Nerviens 135 - 1040 Etterbeek,Avenue des Nerviens 135 - 1040 Etterbeek,NerviÃ«rslaan 135 - 1040 Etterbeek,Avenue des Nerviens 135 - 1040 Etterbeek,Avenue des Nerviens 135 - 1040 Etterbeek,https://data.mobility.brussels/media/bike/count/CEK31_56d3d5af-5ef9-4dfe-99da-da3ed9120beb.png,https://data.mobility.brussels/media/bike/count/CEK31_1821bde5-c76f-47ca-ab41-f33ae8049ed9.png,https://data.mobility.brussels/media/bike/count/CEK31_f939dd00-159d-44df-bed5-29c88e7f44e5.png,https://data.mobility.brussels/media/bike/count/CEK31_307dd928-9e37-4e00-9a92-38c81d0471d7.jpg,https://data.mobility.brussels/media/bike/count/CEK31_d46d715b-592f-4200-9901-25b093abe25d.jpg,4.393037995899081,50.83818200253104,151710.66377625745,169752.30930852424\n",
      "CEV011,True,Leopold III laan thv Vrijetijdslaan - 1140 Evere,Avenue LÃ©opold III / Avenue des Loisirs - 1140 Evere,Avenue LÃ©opold III / Avenue des Loisirs - 1140 Evere,Leopold III laan thv Vrijetijdslaan - 1140 Evere,Avenue LÃ©opold III / Avenue des Loisirs - 1140 Evere,Avenue LÃ©opold III / Avenue des Loisirs - 1140 Evere,https://data.mobility.brussels/media/bike/count/CEV011_8e833f48-e4b2-4407-988c-13dded674594.png,https://data.mobility.brussels/media/bike/count/CEV011_11fdaea1-99ac-431f-a548-8745f3a9d533.png,https://data.mobility.brussels/media/bike/count/CEV011_4f4d804e-0e60-4e31-968e-2b5b06c70be0.png,https://data.mobility.brussels/media/bike/count/CEV011_649dcdfd-ba82-4668-a358-2814f8df83c1.jpg,https://data.mobility.brussels/media/bike/count/CEV011_c19cea3c-c9ac-4047-b66e-1a6fb8e1c35f.jpg,4.402934995899683,50.86692100252375,152406.29305723993,172949.54288042616\n",
      "CJE181,True,Tentoonstellingslaan - 1090 Jette,Avenue de l'Exposition - 1090 Jette,Avenue de l'Exposition - 1090 Jette,Tentoonstellingslaan - 1090 Jette,Avenue de l'Exposition - 1090 Jette,Avenue de l'Exposition - 1090 Jette,https://data.mobility.brussels/media/bike/count/CJE181_a2d4d7bb-c949-4a52-8519-00bef7ccd4c6.png,https://data.mobility.brussels/media/bike/count/CJE181_93a3db01-1dab-46fb-97d8-e84efef40d1d.png,https://data.mobility.brussels/media/bike/count/CJE181_7a6ecf4b-6a18-4a24-ac80-7054072c88d3.png,https://data.mobility.brussels/media/-,https://data.mobility.brussels/media/-,4.315713995922622,50.88029700251005,146267.3731625433,174438.23254681192\n",
      "CJM90,True,Koolmijnenkaai 8 - 1080 Sint-Jans-Molenbeek,Quai des Charbonnages 8 - 1080 Molenbeek-Saint-Jean,Quai des Charbonnages 8 - 1080 Molenbeek-Saint-Jean,Koolmijnenkaai 8 - 1080 Sint-Jans-Molenbeek,Quai des Charbonnages 8 - 1080 Molenbeek-Saint-Jean,Quai des Charbonnages 8 - 1080 Molenbeek-Saint-Jean,https://data.mobility.brussels/media/bike/count/CJM90_8c884c9c-16ca-4e68-b132-6e24c188919a.png,https://data.mobility.brussels/media/bike/count/CJM90_1ff53f6e-e17b-4173-8c99-43e040f1fdc2.png,https://data.mobility.brussels/media/bike/count/CJM90_625643f3-5414-4889-ac46-7ddb3f1dc1b4.png,https://data.mobility.brussels/media/bike/count/CJM90_b0f210c6-ad1c-4f87-8703-a73b84d6bb00.jpg,https://data.mobility.brussels/media/bike/count/CJM90_c93c89a6-f579-4687-b7de-92940be6b0b0.jpg,4.341239995913506,50.8536300025207,148062.70628520215,171470.80123403482\n",
      "CLW239,True,Woluwelaan 34 - 1200 Sint-Lambrechts-Woluwe,Boulevard de la Woluwe 34 - 1200 Woluwe-Saint-Lambert,Boulevard de la Woluwe 34 - 1200 Woluwe-Saint-Lambert,Woluwelaan 34 - 1200 Sint-Lambrechts-Woluwe,Boulevard de la Woluwe 34 - 1200 Woluwe-Saint-Lambert,Boulevard de la Woluwe 34 - 1200 Woluwe-Saint-Lambert,https://data.mobility.brussels/media/-,https://data.mobility.brussels/media/-,https://data.mobility.brussels/media/-,https://data.mobility.brussels/media/-,https://data.mobility.brussels/media/-,4.4348299958887285,50.83799800253579,154654.4513592448,169733.65965939965\n",
      "COM205,True,Vorstlaan 213 - 1160 Oudergem,Boulevard du Souverain 213 - 1160 Auderghem,Boulevard du Souverain 213 - 1160 Auderghem,Vorstlaan 213 - 1160 Oudergem,Boulevard du Souverain 213 - 1160 Auderghem,Boulevard du Souverain 213 - 1160 Auderghem,https://data.mobility.brussels/media/bike/count/COM205_9e247756-9a71-428e-b012-cf6d5e29d16e.png,https://data.mobility.brussels/media/bike/count/COM205_098c7522-eed2-4f91-bbc3-998b2962938a.png,https://data.mobility.brussels/media/bike/count/COM205_3ae3e9e7-231b-4a1f-9c0a-badf3b026c3c.png,https://data.mobility.brussels/media/bike/count/COM205_b5315ecf-cf48-4cf9-8cee-50b7a9a5eaee.jpg,https://data.mobility.brussels/media/bike/count/COM205_3eabfe78-7620-47d8-b117-8f22b92adac5.jpg,4.430120995888016,50.82029000254048,154324.40118714384,167763.53100199532\n",
      "CVT387,True,Hallestraat 164 - 1190 Vorst,rue de Hal 164 - 1190 Forest,rue de Hal 164 - 1190 Forest,Hallestraat 164 - 1190 Vorst,rue de Hal 164 - 1190 Forest,rue de Hal 164 - 1190 Forest,https://data.mobility.brussels/media/bike/count/CVT387_ddf46b8d-ddf3-4c6e-9541-e5cd6f5d9a41.png,https://data.mobility.brussels/media/bike/count/CVT387_dd93d7b4-4fa8-40fc-b3b2-e1d9cad12343.png,https://data.mobility.brussels/media/bike/count/CVT387_d493ac83-4194-4fc3-8b91-0463f0703408.png,https://data.mobility.brussels/media/bike/count/CVT387_e9fd4bd2-9103-4d07-bcad-40b3020496fe.jpg,https://data.mobility.brussels/media/-,4.311588995915708,50.805366002531436,145970.73461078262,166103.07591880858\n",
      "\n"
     ]
    }
   ],
   "source": [
    "# download the data from https://data.mobility.brussels/bike/api/counts/\n",
    "url = \"https://data.mobility.brussels/bike/api/counts/\"\n",
    "params = {\n",
    "    'request':'devices',\n",
    "    'outputFormat':'csv'\n",
    "}\n",
    "\n",
    "response = requests.get(url,params=params)\n",
    "\n",
    "if response.status_code == 200:\n",
    "    csv_content = response.text\n",
    "    print(csv_content)\n",
    "    with open('devices_list.csv', 'w') as file:\n",
    "        file.write(csv_content)\n",
    "else:\n",
    "    print(f\"Error: {response.status_code}\")\n"
   ]
  },
  {
   "cell_type": "code",
   "execution_count": 10,
   "id": "aafa9ff7-3634-4017-8496-7f69fe2f7ef7",
   "metadata": {},
   "outputs": [
    {
     "name": "stdout",
     "output_type": "stream",
     "text": [
      "shape: (18, 17)\n",
      "┌────────────┬────────┬────────────┬───────────┬───┬───────────┬───────────┬───────────┬───────────┐\n",
      "│ Device     ┆ Active ┆ Road (nl)  ┆ Road (fr) ┆ … ┆ Lon (WGS  ┆ Lat (WGS  ┆ X (Lb72)  ┆ Y (Lb72)  │\n",
      "│ name       ┆ ---    ┆ ---        ┆ ---       ┆   ┆ 84)       ┆ 84)       ┆ ---       ┆ ---       │\n",
      "│ ---        ┆ bool   ┆ str        ┆ str       ┆   ┆ ---       ┆ ---       ┆ f64       ┆ f64       │\n",
      "│ str        ┆        ┆            ┆           ┆   ┆ f64       ┆ f64       ┆           ┆           │\n",
      "╞════════════╪════════╪════════════╪═══════════╪═══╪═══════════╪═══════════╪═══════════╪═══════════╡\n",
      "│ CAT17      ┆ true   ┆ Veeweideka ┆ Quai de   ┆ … ┆ 4.301992  ┆ 50.820621 ┆ 145295.77 ┆ 167800.59 │\n",
      "│            ┆        ┆ ai 11 -    ┆ Veeweyde  ┆   ┆           ┆           ┆ 384       ┆ 5433      │\n",
      "│            ┆        ┆ 1070       ┆ 11 - 1070 ┆   ┆           ┆           ┆           ┆           │\n",
      "│            ┆        ┆ Anderle…   ┆ And…      ┆   ┆           ┆           ┆           ┆           │\n",
      "│ CB02411    ┆ true   ┆ Vilvoordse ┆ ChaussÃ©e ┆ … ┆ 4.373961  ┆ 50.88185  ┆ 150366.52 ┆ 174609.70 │\n",
      "│            ┆        ┆ steenweg - ┆ de        ┆   ┆           ┆           ┆ 0862      ┆ 8926      │\n",
      "│            ┆        ┆ 1020 Brus… ┆ Vilvorde  ┆   ┆           ┆           ┆           ┆           │\n",
      "│            ┆        ┆            ┆ - 1020 B… ┆   ┆           ┆           ┆           ┆           │\n",
      "│ CB1101     ┆ true   ┆ Kunstlaan  ┆ Avenue    ┆ … ┆ 4.368583  ┆ 50.845341 ┆ 149988.08 ┆ 170548.38 │\n",
      "│            ┆        ┆ 26 - 1000  ┆ des Arts  ┆   ┆           ┆           ┆ 2389      ┆ 4975      │\n",
      "│            ┆        ┆ Brussel    ┆ 26 - 1000 ┆   ┆           ┆           ┆           ┆           │\n",
      "│            ┆        ┆            ┆ Brux…     ┆   ┆           ┆           ┆           ┆           │\n",
      "│ CB1142     ┆ true   ┆ Wetstraat  ┆ Rue de la ┆ … ┆ 4.378738  ┆ 50.84357  ┆ 150703.30 ┆ 170351.43 │\n",
      "│            ┆        ┆ 130 - 1000 ┆ Loi 130 - ┆   ┆           ┆           ┆ 5727      ┆ 1658      │\n",
      "│            ┆        ┆ Brussel    ┆ 1000      ┆   ┆           ┆           ┆           ┆           │\n",
      "│            ┆        ┆            ┆ Bruxe…    ┆   ┆           ┆           ┆           ┆           │\n",
      "│ CB1143     ┆ true   ┆ Wetstraat  ┆ Rue de la ┆ … ┆ 4.378814  ┆ 50.84337  ┆ 150708.66 ┆ 170329.18 │\n",
      "│            ┆        ┆ 145 - 1000 ┆ Loi 145 - ┆   ┆           ┆           ┆ 1668      ┆ 4301      │\n",
      "│            ┆        ┆ Brussel    ┆ 1000      ┆   ┆           ┆           ┆           ┆           │\n",
      "│            ┆        ┆            ┆ Bruxe…    ┆   ┆           ┆           ┆           ┆           │\n",
      "│ …          ┆ …      ┆ …          ┆ …         ┆ … ┆ …         ┆ …         ┆ …         ┆ …         │\n",
      "│ CJE181     ┆ true   ┆ Tentoonste ┆ Avenue de ┆ … ┆ 4.315714  ┆ 50.880297 ┆ 146267.37 ┆ 174438.23 │\n",
      "│            ┆        ┆ llingslaan ┆ l'Exposit ┆   ┆           ┆           ┆ 3163      ┆ 2547      │\n",
      "│            ┆        ┆ - 1090 Je… ┆ ion -     ┆   ┆           ┆           ┆           ┆           │\n",
      "│            ┆        ┆            ┆ 1090 …    ┆   ┆           ┆           ┆           ┆           │\n",
      "│ CJM90      ┆ true   ┆ Koolmijnen ┆ Quai des  ┆ … ┆ 4.34124   ┆ 50.85363  ┆ 148062.70 ┆ 171470.80 │\n",
      "│            ┆        ┆ kaai 8 -   ┆ Charbonna ┆   ┆           ┆           ┆ 6285      ┆ 1234      │\n",
      "│            ┆        ┆ 1080       ┆ ges 8 -   ┆   ┆           ┆           ┆           ┆           │\n",
      "│            ┆        ┆ Sint-J…    ┆ 1080…     ┆   ┆           ┆           ┆           ┆           │\n",
      "│ CLW239     ┆ true   ┆ Woluwelaan ┆ Boulevard ┆ … ┆ 4.43483   ┆ 50.837998 ┆ 154654.45 ┆ 169733.65 │\n",
      "│            ┆        ┆ 34 - 1200  ┆ de la     ┆   ┆           ┆           ┆ 1359      ┆ 9659      │\n",
      "│            ┆        ┆ Sint-Lamb… ┆ Woluwe 34 ┆   ┆           ┆           ┆           ┆           │\n",
      "│            ┆        ┆            ┆ - 12…     ┆   ┆           ┆           ┆           ┆           │\n",
      "│ COM205     ┆ true   ┆ Vorstlaan  ┆ Boulevard ┆ … ┆ 4.430121  ┆ 50.82029  ┆ 154324.40 ┆ 167763.53 │\n",
      "│            ┆        ┆ 213 - 1160 ┆ du        ┆   ┆           ┆           ┆ 1187      ┆ 1002      │\n",
      "│            ┆        ┆ Oudergem   ┆ Souverain ┆   ┆           ┆           ┆           ┆           │\n",
      "│            ┆        ┆            ┆ 213 - 1…  ┆   ┆           ┆           ┆           ┆           │\n",
      "│ CVT387     ┆ true   ┆ Hallestraa ┆ rue de    ┆ … ┆ 4.311589  ┆ 50.805366 ┆ 145970.73 ┆ 166103.07 │\n",
      "│            ┆        ┆ t 164 -    ┆ Hal 164 - ┆   ┆           ┆           ┆ 4611      ┆ 5919      │\n",
      "│            ┆        ┆ 1190 Vorst ┆ 1190      ┆   ┆           ┆           ┆           ┆           │\n",
      "│            ┆        ┆            ┆ Forest    ┆   ┆           ┆           ┆           ┆           │\n",
      "└────────────┴────────┴────────────┴───────────┴───┴───────────┴───────────┴───────────┴───────────┘\n"
     ]
    }
   ],
   "source": [
    "import polars as pl\n",
    "from io import StringIO\n",
    "df = pl.read_csv(StringIO(csv_content))\n",
    "print (df)\n"
   ]
  },
  {
   "cell_type": "code",
   "execution_count": 13,
   "id": "346b3e22-13b0-41fd-ac3d-19faf6980872",
   "metadata": {},
   "outputs": [
    {
     "name": "stdout",
     "output_type": "stream",
     "text": [
      "['CAT17', 'CB02411', 'CB1101', 'CB1142', 'CB1143', 'CB1599', 'CB1699', 'CB2105', 'CEE016', 'CEK049', 'CEK18', 'CEK31', 'CEV011', 'CJE181', 'CJM90', 'CLW239', 'COM205', 'CVT387']\n"
     ]
    }
   ],
   "source": [
    "# ---Extract the device names ---\n",
    "device_names = df[\"Device name\"].to_list()\n",
    "print(device_names)"
   ]
  },
  {
   "cell_type": "code",
   "execution_count": 14,
   "id": "9513e519-96fd-41e6-bd10-86645d426038",
   "metadata": {},
   "outputs": [
    {
     "name": "stdout",
     "output_type": "stream",
     "text": [
      "Saved history_CAT17.csv\n",
      "Saved history_CB02411.csv\n",
      "Saved history_CB1101.csv\n",
      "Saved history_CB1142.csv\n",
      "Saved history_CB1143.csv\n",
      "Saved history_CB1599.csv\n",
      "Saved history_CB1699.csv\n",
      "Saved history_CB2105.csv\n",
      "Saved history_CEE016.csv\n",
      "Saved history_CEK049.csv\n",
      "Saved history_CEK18.csv\n",
      "Saved history_CEK31.csv\n",
      "Saved history_CEV011.csv\n",
      "Saved history_CJE181.csv\n",
      "Saved history_CJM90.csv\n",
      "Saved history_CLW239.csv\n",
      "Saved history_COM205.csv\n",
      "Saved history_CVT387.csv\n"
     ]
    }
   ],
   "source": [
    "# ---Prepare to download the Bike Counts ---\n",
    "import time\n",
    "\n",
    "base_url = \"https://data.mobility.brussels/bike/api/counts/\"\n",
    "start_date = \"20190101\"\n",
    "end_date = \"20241201\"\n",
    "\n",
    "for device in device_names:\n",
    "    params = {\n",
    "        'request': 'history',\n",
    "        'featureID': device,\n",
    "        'startDate': start_date,\n",
    "        'endDate': end_date,\n",
    "        'outputFormat': 'csv'\n",
    "    }\n",
    "    response = requests.get(base_url, params=params)\n",
    "    if response.status_code == 200:\n",
    "        filename = f\"history_{device}.csv\"\n",
    "        with open(filename, 'w', encoding='utf-8') as f:\n",
    "            f.write(response.text)\n",
    "        print(f\"Saved {filename}\")\n",
    "    else:\n",
    "        print(f\"Failed for {device}: {response.status_code}\")\n",
    "    time.sleep(1)  # Be kind to the API\n",
    "\n"
   ]
  },
  {
   "cell_type": "code",
   "execution_count": 16,
   "id": "b597e19d-045c-41c5-89ef-4082d76c5957",
   "metadata": {},
   "outputs": [
    {
     "name": "stdout",
     "output_type": "stream",
     "text": [
      "shape: (3_059_094, 5)\n",
      "┌────────────┬──────────┬───────┬───────────────┬─────────────┐\n",
      "│ Date       ┆ Time gap ┆ Count ┆ Average speed ┆ device_name │\n",
      "│ ---        ┆ ---      ┆ ---   ┆ ---           ┆ ---         │\n",
      "│ str        ┆ i64      ┆ i64   ┆ i64           ┆ str         │\n",
      "╞════════════╪══════════╪═══════╪═══════════════╪═════════════╡\n",
      "│ 2020-11-23 ┆ 93       ┆ 0     ┆ -1            ┆ CEK31       │\n",
      "│ 2020-11-23 ┆ 94       ┆ 0     ┆ -1            ┆ CEK31       │\n",
      "│ 2020-11-23 ┆ 95       ┆ 0     ┆ -1            ┆ CEK31       │\n",
      "│ 2020-11-23 ┆ 96       ┆ 0     ┆ -1            ┆ CEK31       │\n",
      "│ 2020-11-24 ┆ 1        ┆ 0     ┆ -1            ┆ CEK31       │\n",
      "│ …          ┆ …        ┆ …     ┆ …             ┆ …           │\n",
      "│ 2024-12-01 ┆ 92       ┆ 0     ┆ -1            ┆ CB1599      │\n",
      "│ 2024-12-01 ┆ 93       ┆ 1     ┆ 32            ┆ CB1599      │\n",
      "│ 2024-12-01 ┆ 94       ┆ 0     ┆ -1            ┆ CB1599      │\n",
      "│ 2024-12-01 ┆ 95       ┆ 0     ┆ -1            ┆ CB1599      │\n",
      "│ 2024-12-01 ┆ 96       ┆ 0     ┆ -1            ┆ CB1599      │\n",
      "└────────────┴──────────┴───────┴───────────────┴─────────────┘\n",
      "raw data saved\n"
     ]
    }
   ],
   "source": [
    "# Combine all Data into o Single Dataframe\n",
    "# Save raw data \n",
    "import glob\n",
    "import re\n",
    "\n",
    "def get_device_name(filename):\n",
    "    # Remove path and extension, then split on '_'\n",
    "    base = filename.split('/')[-1].replace('.csv', '')\n",
    "    # Extract device name (everything after 'history_')\n",
    "    return base.split('_', 1)[1]\n",
    "\n",
    "\n",
    "# Collect all CSV files\n",
    "csv_files = glob.glob(\"history_*.csv\")\n",
    "dfs = []\n",
    "\n",
    "for f in csv_files:\n",
    "    device_name = get_device_name(f)\n",
    "    df = pl.read_csv(f)\n",
    "    # Add device_name column\n",
    "    df = df.with_columns(pl.lit(device_name).alias(\"device_name\"))\n",
    "    dfs.append(df)\n",
    "\n",
    "# Combine all DataFrames\n",
    "df_all = pl.concat(dfs)\n",
    "print(df_all)\n",
    "\n",
    "# Save to raw_data.csv\n",
    "df_all.write_csv(\"../raw_data/raw_data.csv\")\n",
    "print(f'raw data saved')\n"
   ]
  },
  {
   "cell_type": "code",
   "execution_count": null,
   "id": "aecc6495-6bad-4b17-995e-6a716b342c44",
   "metadata": {},
   "outputs": [],
   "source": []
  },
  {
   "cell_type": "code",
   "execution_count": 17,
   "id": "ed2cc75b-a00f-4092-aa6f-f6a885698285",
   "metadata": {
    "vscode": {
     "languageId": "plaintext"
    }
   },
   "outputs": [],
   "source": [
    "# --- Configuration (from Environment Variables) ---\n",
    "DATABASE_HOST = os.getenv('DATABASE_HOST')\n",
    "DATABASE_PORT = os.getenv('DATABASE_PORT')\n",
    "DATABASE_USER = os.getenv('DATABASE_USER')\n",
    "DATABASE_PASSWORD = os.getenv('DATABASE_PASSWORD')\n",
    "DATABASE_NAME = os.getenv('DATABASE_NAME')"
   ]
  },
  {
   "cell_type": "code",
   "execution_count": 18,
   "id": "949fea0a-4ef6-45fa-aa84-65ba13f8d84b",
   "metadata": {
    "vscode": {
     "languageId": "plaintext"
    }
   },
   "outputs": [],
   "source": [
    "# Paths inside the Jupyter container due to volume mounts\n",
    "RAW_DATA_CONTAINER_PATH = \"/home/jovyan/raw_data/raw_data.csv\"\n",
    "OUTPUT_CSV_CONTAINER_PATH = \"/home/jovyan/output/final_clean_data.csv\"\n",
    "PREPROCESSING_SCRIPT_CONTAINER_PATH = \"/home/jovyan/scripts/preprocessing.py\" # For importing if needed"
   ]
  },
  {
   "cell_type": "code",
   "execution_count": 36,
   "id": "fca62e5a-0cd4-4a30-bab0-7696e327968b",
   "metadata": {
    "vscode": {
     "languageId": "plaintext"
    }
   },
   "outputs": [
    {
     "name": "stdout",
     "output_type": "stream",
     "text": [
      "Loading unclean data from: /home/jovyan/raw_data/raw_data.csv\n",
      "Unclean Data Head:\n",
      "shape: (5, 5)\n",
      "┌────────────┬──────────┬───────┬───────────────┬─────────────┐\n",
      "│ Date       ┆ Time gap ┆ Count ┆ Average speed ┆ Device name │\n",
      "│ ---        ┆ ---      ┆ ---   ┆ ---           ┆ ---         │\n",
      "│ str        ┆ i64      ┆ i64   ┆ i64           ┆ str         │\n",
      "╞════════════╪══════════╪═══════╪═══════════════╪═════════════╡\n",
      "│ 2020-11-23 ┆ 93       ┆ 0     ┆ -1            ┆ CEK31       │\n",
      "│ 2020-11-23 ┆ 94       ┆ 0     ┆ -1            ┆ CEK31       │\n",
      "│ 2020-11-23 ┆ 95       ┆ 0     ┆ -1            ┆ CEK31       │\n",
      "│ 2020-11-23 ┆ 96       ┆ 0     ┆ -1            ┆ CEK31       │\n",
      "│ 2020-11-24 ┆ 1        ┆ 0     ┆ -1            ┆ CEK31       │\n",
      "└────────────┴──────────┴───────┴───────────────┴─────────────┘\n",
      "['Date', 'Time gap', 'Count', 'Average speed', 'Device name']\n"
     ]
    }
   ],
   "source": [
    "# --- Load Unclean Data Directly ---\n",
    "try:\n",
    "    print(f\"Loading unclean data from: {RAW_DATA_CONTAINER_PATH}\")\n",
    "    df_unclean = pl.read_csv(RAW_DATA_CONTAINER_PATH)\n",
    "    df_unclean = df_unclean.rename({\"device_name\": \"Device name\"})\n",
    "    print(\"Unclean Data Head:\")\n",
    "    print(df_unclean.head())\n",
    "    print(df_unclean.columns)\n",
    "except Exception as e:\n",
    "    print(f\"Error loading unclean data in notebook: {e}\")\n",
    "    df_unclean= pl.DataFrame() # Ensure df exists even on error\n"
   ]
  },
  {
   "cell_type": "code",
   "execution_count": 33,
   "id": "14274390-c651-40f3-843d-734d65758b4b",
   "metadata": {},
   "outputs": [
    {
     "name": "stdout",
     "output_type": "stream",
     "text": [
      "Attempting to load device list from: /home/jovyan/raw_data/devices_list.csv\n",
      "Successfully loaded 18 devices from the list.\n",
      "Device List Data Head:\n",
      "shape: (5, 17)\n",
      "┌────────────┬────────┬────────────┬───────────┬───┬───────────┬───────────┬───────────┬───────────┐\n",
      "│ Device     ┆ Active ┆ Road (nl)  ┆ Road (fr) ┆ … ┆ Lon (WGS  ┆ Lat (WGS  ┆ X (Lb72)  ┆ Y (Lb72)  │\n",
      "│ name       ┆ ---    ┆ ---        ┆ ---       ┆   ┆ 84)       ┆ 84)       ┆ ---       ┆ ---       │\n",
      "│ ---        ┆ bool   ┆ str        ┆ str       ┆   ┆ ---       ┆ ---       ┆ f64       ┆ f64       │\n",
      "│ str        ┆        ┆            ┆           ┆   ┆ f64       ┆ f64       ┆           ┆           │\n",
      "╞════════════╪════════╪════════════╪═══════════╪═══╪═══════════╪═══════════╪═══════════╪═══════════╡\n",
      "│ CAT17      ┆ true   ┆ Veeweideka ┆ Quai de   ┆ … ┆ 4.301992  ┆ 50.820621 ┆ 145295.77 ┆ 167800.59 │\n",
      "│            ┆        ┆ ai 11 -    ┆ Veeweyde  ┆   ┆           ┆           ┆ 384       ┆ 5433      │\n",
      "│            ┆        ┆ 1070       ┆ 11 - 1070 ┆   ┆           ┆           ┆           ┆           │\n",
      "│            ┆        ┆ Anderle…   ┆ And…      ┆   ┆           ┆           ┆           ┆           │\n",
      "│ CB02411    ┆ true   ┆ Vilvoordse ┆ ChaussÃ©e ┆ … ┆ 4.373961  ┆ 50.88185  ┆ 150366.52 ┆ 174609.70 │\n",
      "│            ┆        ┆ steenweg - ┆ de        ┆   ┆           ┆           ┆ 0862      ┆ 8926      │\n",
      "│            ┆        ┆ 1020 Brus… ┆ Vilvorde  ┆   ┆           ┆           ┆           ┆           │\n",
      "│            ┆        ┆            ┆ - 1020 B… ┆   ┆           ┆           ┆           ┆           │\n",
      "│ CB1101     ┆ true   ┆ Kunstlaan  ┆ Avenue    ┆ … ┆ 4.368583  ┆ 50.845341 ┆ 149988.08 ┆ 170548.38 │\n",
      "│            ┆        ┆ 26 - 1000  ┆ des Arts  ┆   ┆           ┆           ┆ 2389      ┆ 4975      │\n",
      "│            ┆        ┆ Brussel    ┆ 26 - 1000 ┆   ┆           ┆           ┆           ┆           │\n",
      "│            ┆        ┆            ┆ Brux…     ┆   ┆           ┆           ┆           ┆           │\n",
      "│ CB1142     ┆ true   ┆ Wetstraat  ┆ Rue de la ┆ … ┆ 4.378738  ┆ 50.84357  ┆ 150703.30 ┆ 170351.43 │\n",
      "│            ┆        ┆ 130 - 1000 ┆ Loi 130 - ┆   ┆           ┆           ┆ 5727      ┆ 1658      │\n",
      "│            ┆        ┆ Brussel    ┆ 1000      ┆   ┆           ┆           ┆           ┆           │\n",
      "│            ┆        ┆            ┆ Bruxe…    ┆   ┆           ┆           ┆           ┆           │\n",
      "│ CB1143     ┆ true   ┆ Wetstraat  ┆ Rue de la ┆ … ┆ 4.378814  ┆ 50.84337  ┆ 150708.66 ┆ 170329.18 │\n",
      "│            ┆        ┆ 145 - 1000 ┆ Loi 145 - ┆   ┆           ┆           ┆ 1668      ┆ 4301      │\n",
      "│            ┆        ┆ Brussel    ┆ 1000      ┆   ┆           ┆           ┆           ┆           │\n",
      "│            ┆        ┆            ┆ Bruxe…    ┆   ┆           ┆           ┆           ┆           │\n",
      "└────────────┴────────┴────────────┴───────────┴───┴───────────┴───────────┴───────────┴───────────┘\n",
      "Device List Schema:\n",
      "Schema([('Device name', String), ('Active', Boolean), ('Road (nl)', String), ('Road (fr)', String), ('Road (en)', String), ('Description (nl)', String), ('Description (fr)', String), ('Description (en)', String), ('Lane schema', String), ('Basic schema', String), ('Detailed schema', String), ('Picture 1', String), ('Picture 2', String), ('Lon (WGS 84)', Float64), ('Lat (WGS 84)', Float64), ('X (Lb72)', Float64), ('Y (Lb72)', Float64)])\n",
      "['Device name', 'Active', 'Road (nl)', 'Road (fr)', 'Road (en)', 'Description (nl)', 'Description (fr)', 'Description (en)', 'Lane schema', 'Basic schema', 'Detailed schema', 'Picture 1', 'Picture 2', 'Lon (WGS 84)', 'Lat (WGS 84)', 'X (Lb72)', 'Y (Lb72)']\n"
     ]
    }
   ],
   "source": [
    "#--- Load the Device List Data\n",
    "DEVICE_LIST_PATH = \"/home/jovyan/raw_data/devices_list.csv\"\n",
    "try:\n",
    "    print(f\"Attempting to load device list from: {DEVICE_LIST_PATH}\")\n",
    "    # Read CSV, Polars will infer types. We specify the join key to be String.\n",
    "    df_devices = pl.read_csv(DEVICE_LIST_PATH, schema_overrides={\"Device name\": pl.String})\n",
    "\n",
    "    # Validate required columns are present based on the provided headers\n",
    "    required_device_cols = [\"Device name\", \"Lon (WGS 84)\", \"Lat (WGS 84)\", \"X (Lb72)\", \"Y (Lb72)\"]\n",
    "    if not all(col in df_devices.columns for col in required_device_cols):\n",
    "        raise ValueError(f\"Device list CSV missing one of required columns: {required_device_cols}\")\n",
    "\n",
    "    print(f\"Successfully loaded {df_devices.shape[0]} devices from the list.\")\n",
    "    print(\"Device List Data Head:\")\n",
    "    print(df_devices.head())\n",
    "    print(\"Device List Schema:\")\n",
    "    print(df_devices.schema)\n",
    "    print(df_devices.columns)\n",
    "\n",
    "except Exception as e:\n",
    "    print(f\"Error loading device list: {e}\")\n",
    "    exit(1)\n"
   ]
  },
  {
   "cell_type": "code",
   "execution_count": 37,
   "id": "043f6c0b-01c4-4765-9ec5-1fd3a06ccfee",
   "metadata": {},
   "outputs": [
    {
     "name": "stdout",
     "output_type": "stream",
     "text": [
      "Starting Polars preprocessing and data enrichment (joining with geo-coordinates)...\n",
      "Successfully joined and cleaned data. New shape: (2655797, 8)\n",
      "Cleaned Data Head (with Latitude/Longitude/Easting/Northing):\n",
      "shape: (5, 8)\n",
      "┌─────────────┬─────────────┬───────┬────────────┬───────────┬───────────┬────────────┬────────────┐\n",
      "│ timestamp   ┆ device_name ┆ count ┆ average_sp ┆ longitude ┆ latitude  ┆ easting    ┆ northing   │\n",
      "│ ---         ┆ ---         ┆ ---   ┆ eed        ┆ ---       ┆ ---       ┆ ---        ┆ ---        │\n",
      "│ datetime[μs ┆ str         ┆ i64   ┆ ---        ┆ f64       ┆ f64       ┆ f64        ┆ f64        │\n",
      "│ ]           ┆             ┆       ┆ f64        ┆           ┆           ┆            ┆            │\n",
      "╞═════════════╪═════════════╪═══════╪════════════╪═══════════╪═══════════╪════════════╪════════════╡\n",
      "│ 2021-03-05  ┆ CEK31       ┆ 9     ┆ 18.0       ┆ 4.393038  ┆ 50.838182 ┆ 151710.663 ┆ 169752.309 │\n",
      "│ 12:15:00    ┆             ┆       ┆            ┆           ┆           ┆ 776        ┆ 309        │\n",
      "│ 2021-03-05  ┆ CEK31       ┆ 18    ┆ 19.0       ┆ 4.393038  ┆ 50.838182 ┆ 151710.663 ┆ 169752.309 │\n",
      "│ 12:30:00    ┆             ┆       ┆            ┆           ┆           ┆ 776        ┆ 309        │\n",
      "│ 2021-03-05  ┆ CEK31       ┆ 25    ┆ 20.0       ┆ 4.393038  ┆ 50.838182 ┆ 151710.663 ┆ 169752.309 │\n",
      "│ 12:45:00    ┆             ┆       ┆            ┆           ┆           ┆ 776        ┆ 309        │\n",
      "│ 2021-03-05  ┆ CEK31       ┆ 16    ┆ 17.0       ┆ 4.393038  ┆ 50.838182 ┆ 151710.663 ┆ 169752.309 │\n",
      "│ 13:00:00    ┆             ┆       ┆            ┆           ┆           ┆ 776        ┆ 309        │\n",
      "│ 2021-03-05  ┆ CEK31       ┆ 21    ┆ 18.0       ┆ 4.393038  ┆ 50.838182 ┆ 151710.663 ┆ 169752.309 │\n",
      "│ 13:15:00    ┆             ┆       ┆            ┆           ┆           ┆ 776        ┆ 309        │\n",
      "└─────────────┴─────────────┴───────┴────────────┴───────────┴───────────┴────────────┴────────────┘\n",
      "Cleaned Data Schema:\n",
      "Schema([('timestamp', Datetime(time_unit='us', time_zone=None)), ('device_name', String), ('count', Int64), ('average_speed', Float64), ('longitude', Float64), ('latitude', Float64), ('easting', Float64), ('northing', Float64)])\n"
     ]
    }
   ],
   "source": [
    "# ---  Preprocess and Join Data with Polars ---\n",
    "print(\"Starting Polars preprocessing and data enrichment (joining with geo-coordinates)...\")\n",
    "try:\n",
    "    #  Basic cleaning on the main bike counts data\n",
    "    # Use the now consistent \"Device name\" for operations if needed before join\n",
    "    df_temp = df_unclean.with_columns(\n",
    "        pl.col(\"Date\").str.strptime(pl.Date, \"%Y-%m-%d\").alias(\"event_date\"),\n",
    "        # Calculate minutes from 'Time gap': (Time gap - 1) * 15 minutes\n",
    "        ((pl.col(\"Time gap\") - 1) * 15).alias(\"minutes_offset\")\n",
    "    ).with_columns(\n",
    "        # Convert date to datetime and add the minute offset\n",
    "        (pl.col(\"event_date\").cast(pl.Datetime) + pl.duration(minutes=pl.col(\"minutes_offset\")))\n",
    "        .alias(\"timestamp\")\n",
    "    ).drop([\"Date\", \"Time gap\", \"minutes_offset\"]) # Drop original columns\n",
    "\n",
    "    #  Perform the join operation to add spatial information\n",
    "    # The 'on' column is now consistently \"Device name\"\n",
    "    df_joined = df_temp.join(\n",
    "        df_devices.select([\n",
    "            \"Device name\", # This is now consistent\n",
    "            \"Lon (WGS 84)\",\n",
    "            \"Lat (WGS 84)\",\n",
    "            \"X (Lb72)\",\n",
    "            \"Y (Lb72)\"\n",
    "        ]),\n",
    "        on=\"Device name\", # Join on the common column (now consistent)\n",
    "        how=\"left\"\n",
    "    )\n",
    "\n",
    "    #  Further cleaning, casting, and renaming on the joined data\n",
    "    df_cleaned = df_joined.with_columns(\n",
    "        pl.col(\"Count\").cast(pl.Int64, strict=False), # Use 'Count' (capital C)\n",
    "        pl.col(\"Average speed\").cast(pl.Float64, strict=False), # Use 'Average speed' (capital A, space)\n",
    "        # Explicitly cast and rename spatial columns\n",
    "        pl.col(\"Lon (WGS 84)\").cast(pl.Float64, strict=False).alias(\"longitude\"),\n",
    "        pl.col(\"Lat (WGS 84)\").cast(pl.Float64, strict=False).alias(\"latitude\"),\n",
    "        pl.col(\"X (Lb72)\").cast(pl.Float64, strict=False).alias(\"easting\"),\n",
    "        pl.col(\"Y (Lb72)\").cast(pl.Float64, strict=False).alias(\"northing\")\n",
    "    ).drop_nulls(subset=[ # Drop rows if any of these crucial columns are null\n",
    "        'timestamp', 'Count', 'Average speed', # Use original names for drop_nulls\n",
    "        'longitude', 'latitude', 'easting', 'northing' # Use the new alias names here\n",
    "    ]).filter(pl.col(\"Count\") > 0) # Use 'Count' (capital C)\n",
    "\n",
    "    #  Final column selection and renaming for output (database and CSV)\n",
    "    df_cleaned = df_cleaned.select([\n",
    "        \"timestamp\",\n",
    "        pl.col(\"Device name\").alias(\"device_name\"), # Final rename for DB/CSV output\n",
    "        pl.col(\"Count\").alias(\"count\"), # Rename for DB/CSV output\n",
    "        pl.col(\"Average speed\").alias(\"average_speed\"), # Rename for DB/CSV output\n",
    "        \"longitude\",\n",
    "        \"latitude\",\n",
    "        \"easting\",\n",
    "        \"northing\"\n",
    "    ])\n",
    "\n",
    "    print(f\"Successfully joined and cleaned data. New shape: {df_cleaned.shape}\")\n",
    "    print(\"Cleaned Data Head (with Latitude/Longitude/Easting/Northing):\")\n",
    "    print(df_cleaned.head())\n",
    "    print(\"Cleaned Data Schema:\")\n",
    "    print(df_cleaned.schema)\n",
    "\n",
    "except Exception as e:\n",
    "    print(f\"Error during Polars preprocessing and joining: {e}\")\n",
    "    # Print the full exception for better debugging\n",
    "    import traceback\n",
    "    traceback.print_exc()\n",
    "    exit(1)"
   ]
  },
  {
   "cell_type": "code",
   "execution_count": null,
   "id": "85fed495-f330-4b47-a84a-ac1cc44e6416",
   "metadata": {},
   "outputs": [],
   "source": [
    "#--- save to database\n",
    "#--- To Do\n",
    "\"\"\"\n",
    "if not df_cleaned.is_empty():\n",
    "    conn_str = f\"postgresql://{DATABASE_USER}:{DATABASE_PASSWORD}@{DATABASE_HOST}:{DATABASE_PORT}/{DATABASE_NAME}\"\n",
    "    try:\n",
    "        print(f\"Attempting to connect to PostgreSQL at {DATABASE_HOST}:{DATABASE_PORT}/{DATABASE_NAME}...\")\n",
    "        engine = create_engine(conn_str)\n",
    "        with engine.connect() as conn:\n",
    "            df_cleaned.write_database(\n",
    "                table_name=\"cleaned_data\",\n",
    "                connection=conn,\n",
    "                if_exists=\"replace\" # or \"append\", \"fail\"\n",
    "            )\n",
    "        print(f\"Successfully wrote {df_cleaned.shape[0]} rows to 'cleaned_data' table in PostgreSQL.\")\n",
    "    except Exception as e:\n",
    "        print(f\"Error storing data to PostgreSQL: {e}\")\n",
    "        print(\"Please ensure your 'db' service is running and accessible and database credentials are correct.\")\n",
    "        import traceback\n",
    "        traceback.print_exc() # Print full traceback for DB errors too\n",
    "else:\n",
    "    print(\"No cleaned data to store in PostgreSQL.\")\n",
    "    \"\"\"\n"
   ]
  },
  {
   "cell_type": "code",
   "execution_count": 40,
   "id": "ee6b0dc4-3cb3-43af-9010-b94cd77c904e",
   "metadata": {},
   "outputs": [
    {
     "name": "stdout",
     "output_type": "stream",
     "text": [
      "Successfully saved cleaned data to CSV at: /home/jovyan/output/final_clean_data.csv\n",
      "This file should now be available in your local './output' directory.\n",
      "Preprocessing script finished.\n"
     ]
    }
   ],
   "source": [
    "#--- Save Final Clean Data to CSV\n",
    "\n",
    "if not df_cleaned.is_empty():\n",
    "    try:\n",
    "        df_cleaned.write_csv(OUTPUT_CSV_CONTAINER_PATH )\n",
    "        print(f\"Successfully saved cleaned data to CSV at: {OUTPUT_CSV_CONTAINER_PATH }\")\n",
    "        print(f\"This file should now be available in your local './output' directory.\")\n",
    "    except Exception as e:\n",
    "        print(f\"Error saving final CSV: {e}\")\n",
    "else:\n",
    "    print(\"No cleaned data to save to CSV.\")\n",
    "\n",
    "print(\"Preprocessing script finished.\")\n",
    "\n"
   ]
  },
  {
   "cell_type": "code",
   "execution_count": null,
   "id": "ffe41acb-ba54-467d-ac80-7ce300e2f320",
   "metadata": {
    "vscode": {
     "languageId": "plaintext"
    }
   },
   "outputs": [],
   "source": [
    "# --- Data Exploration and Visualization ---\n",
    "# Example: Use matplotlib/seaborn (assuming they are in notebooks/requirements.txt)\n",
    "# import matplotlib.pyplot as plt\n",
    "# import seaborn as sns\n",
    "# if not df_final_csv.is_empty():\n",
    "#     plt.figure(figsize=(10, 6))\n",
    "#     sns.lineplot(data=df_final_csv, x=\"timestamp\", y=\"value\")\n",
    "#     plt.title(\"Time Series of Cleaned Data\")\n",
    "#     plt.show()\n",
    "\n",
    "print(\"\\nNotebook exploration complete.\")"
   ]
  }
 ],
 "metadata": {
  "kernelspec": {
   "display_name": "Python 3 (ipykernel)",
   "language": "python",
   "name": "python3"
  },
  "language_info": {
   "codemirror_mode": {
    "name": "ipython",
    "version": 3
   },
   "file_extension": ".py",
   "mimetype": "text/x-python",
   "name": "python",
   "nbconvert_exporter": "python",
   "pygments_lexer": "ipython3",
   "version": "3.11.6"
  }
 },
 "nbformat": 4,
 "nbformat_minor": 5
}
